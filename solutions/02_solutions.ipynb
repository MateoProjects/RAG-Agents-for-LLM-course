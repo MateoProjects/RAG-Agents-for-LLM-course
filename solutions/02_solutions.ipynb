{
 "cells": [
  {
   "cell_type": "markdown",
   "id": "9f0f6b03-5551-4dcf-87f8-fdfffcd0ea32",
   "metadata": {},
   "source": [
    "## **Part 4: [Exercise]** Trying Out The AI Foundation Endpoints\n",
    "\n",
    "To start out, let's use the provided `requests` boilerplate from an LLM model's API entry. Perhaps `Llama-2-13B` or `mixtral-7bx8`is a reasonable candidate, but feel free to try your own and consider the pool of active options.\n",
    "\n",
    "To query the model, you can paste the code for the python routine in the cell below. It is much easier to use the streaming script in Python thanks to some special features of the `requests` library, so we have provided some hints to get that started for you. *Feel free to try the non-streaming way if you have the time and interest.*\n",
    "\n",
    "**NOTE:** If you would like, you can bypass this exercise by simply clicking the `Execute` button under the code block. Doing this will show what happens when you try to invoke the provided example."
   ]
  },
  {
   "cell_type": "code",
   "execution_count": null,
   "id": "7e7a78a5-f7cf-4459-a647-304bd9471011",
   "metadata": {},
   "outputs": [],
   "source": [
    "import requests\n",
    "import json\n",
    "\n",
    "####################################################################################\n",
    "## HELPERS\n",
    "\n",
    "## HINT 1: The following streaming header tosses in your API key from the environment:\n",
    "\n",
    "headers = {\n",
    "    \"Authorization\": f\"Bearer {os.environ.get('NVIDIA_API_KEY')}\",\n",
    "    \"accept\": \"text/event-stream\",\n",
    "    \"content-type\": \"application/json\",\n",
    "}\n",
    "\n",
    "## HINT 2: If you're streaming, you can use print(line.decode(\"utf-8\")) for raw responses\n",
    "##  For more user-friendly responses, you may want to get_stream_token(line):\n",
    "def get_stream_token(entry: bytes):\n",
    "    \"\"\"Utility: Coerces out ['choices'][0]['delta'][content] from the bytestream\"\"\"\n",
    "    if not entry: return \"\"\n",
    "    entry = entry.decode('utf-8')\n",
    "    if entry.startswith('data: '):\n",
    "        try: entry = json.loads(entry[5:])\n",
    "        except ValueError: return \"\"\n",
    "    return entry.get('choices', [{}])[0].get('delta', {}).get('content')\n",
    "\n",
    "####################################################################################\n",
    "## TODO: Save the invocation URL for the endpoint here\n",
    "\n",
    "# invoke_url = ...\n",
    "\n",
    "invoke_url = \"https://api.nvcf.nvidia.com/v2/nvcf/pexec/functions/e0bb7fb9-5333-4a27-8534-c6288f921d3f\"\n",
    "\n",
    "## TODO: Construct the payload, which will be sent over to the endpoint\n",
    "payload = {\n",
    "  \"messages\": [\n",
    "    {\n",
    "      \"content\": \"I am going to Paris, what should I see?\",\n",
    "      \"role\": \"user\"\n",
    "    }\n",
    "  ],\n",
    "  \"temperature\": 0.2,\n",
    "  \"top_p\": 0.7,\n",
    "  \"max_tokens\": 1024,\n",
    "  \"seed\": 42,\n",
    "  \"stream\": True\n",
    "}\n",
    "\n",
    "## Use requests.post to send the header (streaming meta-info) the payload to the endpoint\n",
    "## Make sure streaming is enabled, and expect the response to have an iter_lines response.\n",
    "response = requests.post(invoke_url, headers=headers, json=payload, stream=True)\n",
    "\n",
    "## If your response is an error message, this will raise an exception in Python\n",
    "response.raise_for_status()\n",
    "\n",
    "## If the post request is honored, you should be able to iterate over \n",
    "for line in response.iter_lines():\n",
    "    print(get_stream_token(line), end=\"\")\n",
    "    # if line: print(line.decode(\"utf-8\"))"
   ]
  }
 ],
 "metadata": {
  "kernelspec": {
   "display_name": "Python 3 (ipykernel)",
   "language": "python",
   "name": "python3"
  },
  "language_info": {
   "codemirror_mode": {
    "name": "ipython",
    "version": 3
   },
   "file_extension": ".py",
   "mimetype": "text/x-python",
   "name": "python",
   "nbconvert_exporter": "python",
   "pygments_lexer": "ipython3",
   "version": "3.11.7"
  }
 },
 "nbformat": 4,
 "nbformat_minor": 5
}
